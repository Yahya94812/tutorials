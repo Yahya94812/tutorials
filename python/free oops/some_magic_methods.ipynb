{
 "cells": [
  {
   "cell_type": "code",
   "execution_count": 3,
   "metadata": {},
   "outputs": [
    {
     "name": "stdout",
     "output_type": "stream",
     "text": [
      "{'name': 'yahya', 'roll': 14, 'marks': 100}\n",
      "{'__module__': '__main__', '__init__': <function Std.__init__ at 0x0000016C5E2C6DE0>, '__dict__': <attribute '__dict__' of 'Std' objects>, '__weakref__': <attribute '__weakref__' of 'Std' objects>, '__doc__': None}\n"
     ]
    }
   ],
   "source": [
    "class Std:\n",
    "    def __init__(self,name,roll):\n",
    "        self.name=name\n",
    "        self.roll=roll\n",
    "\n",
    "s1=Std(\"yahya\",14)\n",
    "s1.marks=100\n",
    "print(s1.__dict__)#this print all the atr at instance level\n",
    "print(Std.__dict__)#this print all the atr at class level {not easily readable}\n"
   ]
  },
  {
   "cell_type": "code",
   "execution_count": 8,
   "metadata": {},
   "outputs": [
    {
     "name": "stdout",
     "output_type": "stream",
     "text": [
      "[Std(yahya,14), Std(Badruddin,5)]\n"
     ]
    }
   ],
   "source": [
    "class Std:\n",
    "    all=[]\n",
    "    def __init__(self,name,roll):\n",
    "        self.name=name\n",
    "        self.roll=roll\n",
    "        Std.all.append(self)\n",
    "\n",
    "    def __repr__(self):#this make object redable\n",
    "        return f\"Std({self.name},{self.roll})\"\n",
    "s1=Std(\"yahya\",14)\n",
    "s2=Std(\"Badruddin\",5)\n",
    "\n",
    "print(Std.all)"
   ]
  },
  {
   "cell_type": "code",
   "execution_count": null,
   "metadata": {},
   "outputs": [],
   "source": []
  }
 ],
 "metadata": {
  "kernelspec": {
   "display_name": "Python 3",
   "language": "python",
   "name": "python3"
  },
  "language_info": {
   "codemirror_mode": {
    "name": "ipython",
    "version": 3
   },
   "file_extension": ".py",
   "mimetype": "text/x-python",
   "name": "python",
   "nbconvert_exporter": "python",
   "pygments_lexer": "ipython3",
   "version": "3.12.2"
  }
 },
 "nbformat": 4,
 "nbformat_minor": 2
}
